#ai-engine/notebooks/model_exploration.ipynb

#Import necessary libraries
import os
import numpy as np
import pandas as pd
import matplotlib.pyplot as plt
import seaborn as sns
from PIL import Image
import torch
import torchvision.transforms as transforms
from sklearn.model_selection import train_test_split
from sklearn.metrics import classification_report, accuracy_score
from torchvision import models

#Load dataset
labels_csv = "../data/labels.csv"
image_dir = "../data/images"

df = pd.read_csv(labels_csv)
print("Dataset Loaded Successfully!")

#Display first few rows
df.head()

#Visualizing the class distribution
plt.figure(figsize=(10,5))
sns.countplot(x=df['label'], palette="viridis")
plt.title("Class Distribution in Dataset")
plt.xlabel("Class Labels")
plt.ylabel("Count")
plt.show()

#Define transformation pipeline
transform = transforms.Compose([
    transforms.Resize((224, 224)),
    transforms.ToTensor(),
])

#Function to load a sample of images for visualization
def load_images(df, num_samples=5):
    fig, axes = plt.subplots(1, num_samples, figsize=(15, 5))

    for i, img_name in enumerate(df["filename"].sample(num_samples)):
        img_path = os.path.join(image_dir, img_name)
        image = Image.open(img_path).convert("RGB")
        axes[i].imshow(image)
        axes[i].axis("off")

    plt.show()

#Display sample images
load_images(df)

#Load Pre-trained Model (ResNet-18)
model = models.resnet18(pretrained=True)
model.fc = torch.nn.Linear(model.fc.in_features, len(df['label'].unique()))  # Adjust final layer

#Print model architecture
print(model)

X_train, X_test, y_train, y_test = train_test_split(df["filename"], df["label"], test_size=0.2, random_state=42)

print(f"Training Data: {len(X_train)} samples")
print(f"Testing Data: {len(X_test)} samples")
