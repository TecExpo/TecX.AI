├── notebooks/       # Jupyter notebooks for research and development
│   │   ├── model_exploration.ipynb
